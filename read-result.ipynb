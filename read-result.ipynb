{
 "cells": [
  {
   "cell_type": "code",
   "execution_count": 2,
   "metadata": {},
   "outputs": [],
   "source": [
    "import os\n",
    "import glob\n",
    "import json\n",
    "import pandas as pd\n",
    "import numpy as np\n",
    "\n",
    "from itertools import groupby\n",
    "from collections import Counter\n",
    "from os.path import exists"
   ]
  },
  {
   "cell_type": "markdown",
   "metadata": {},
   "source": []
  },
  {
   "cell_type": "code",
   "execution_count": 3,
   "metadata": {},
   "outputs": [],
   "source": [
    "def IssuerCode(state=False):\n",
    "    issuers = pd.read_csv('data/list_of_issuer-20230322.csv',sep=';')\n",
    "    issuer_filtered = []\n",
    "    for code_stock in issuers.Code:\n",
    "        # Check last transaction 2023\n",
    "        # Have 200 transaction\n",
    "        path = f'data/history/{code_stock}.csv'\n",
    "        if os.path.exists(path):\n",
    "            historical = pd.read_csv(path)\n",
    "            last_date_row = historical.Date.iloc[len(historical)-1] # get last date transactions\n",
    "            data_test = historical[len(historical)-(int(len(historical)*0.2)):]['Close'] # get data test\n",
    "            var = np.var(data_test) # calculate variance from data test\n",
    "            if (last_date_row[:4] == '2023' and len(historical) >= 200 and var > 0):\n",
    "                issuer_filtered.append(code_stock)\n",
    "    \n",
    "    if state:\n",
    "        print(\"Code of Stock Issuer: {}\".format(issuer_filtered))\n",
    "    else:\n",
    "        return issuer_filtered"
   ]
  },
  {
   "cell_type": "code",
   "execution_count": 4,
   "metadata": {},
   "outputs": [],
   "source": [
    "issuers = IssuerCode()"
   ]
  },
  {
   "cell_type": "code",
   "execution_count": 5,
   "metadata": {},
   "outputs": [],
   "source": [
    "# read profile stock\n",
    "def_sectors = ['Barang Baku','Barang Konsumen Non-Primer','Barang Konsumen Primer','Energi','Keuangan','Kesehatan','Perindustrian','Infrastruktur','Properti','Teknologi','Transportasi',]\n",
    "\n",
    "undefined_sectors = ['PROPERTY, REAL ESTATE AND BUILDING CONSTRUCTION', \n",
    "                     'Transportasi & Logistik', \n",
    "                     'Financials', \n",
    "                     'MISCELLANEOUS INDUSTRY', \n",
    "                     'Consumer Cyclicals', \n",
    "                     'Properties & Real Estate', \n",
    "                     'INFRASTRUCTURE, UTILITIES  AND TRANSPORTATION', \n",
    "                     'BASIC INDUSTRY AND CHEMICALS', \n",
    "                     'TRADE, SERVICES & INVESTMENT', \n",
    "                     'CONSUMER GOODS INDUSTRY', \n",
    "                     'Properti & Real Estat']\n",
    "\n",
    "path_profile = 'data/profile/'\n",
    "path_transaction = 'data/history/'\n",
    "\n",
    "issuer_sectors = {'code':[],'sector':[],'len':[]}\n",
    "\n",
    "for issuer in issuers:\n",
    "    filename = f'{path_profile}/{issuer}.json'\n",
    "    profiles = json.load(open(filename))\n",
    "    path = f'{path_transaction}{issuer}.csv'\n",
    "    if exists(path):\n",
    "        historical = pd.read_csv(path)\n",
    "    \n",
    "    if issuer in ['BOLT','RICY','INDS']:\n",
    "        profiles['Profiles'][0]['Sektor'] = 'Barang Konsumen Non-Primer'\n",
    "    elif issuer == 'IKBI':\n",
    "        profiles['Profiles'][0]['Sektor'] = 'Perindustrian'    \n",
    "    elif issuer == 'RIMO':\n",
    "        profiles['Profiles'][0]['Sektor'] = 'Properti'\n",
    "    elif profiles['Profiles'][0]['Sektor'] in undefined_sectors[:2]:\n",
    "        profiles['Profiles'][0]['Sektor'] = 'Transportasi'\n",
    "    elif profiles['Profiles'][0]['Sektor'] in undefined_sectors[2]:\n",
    "        profiles['Profiles'][0]['Sektor'] = 'Keuangan'\n",
    "    elif profiles['Profiles'][0]['Sektor'] in undefined_sectors[4]:\n",
    "        profiles['Profiles'][0]['Sektor'] = 'Barang Konsumen Non-Primer'\n",
    "    elif profiles['Profiles'][0]['Sektor'] in undefined_sectors[5]:\n",
    "        profiles['Profiles'][0]['Sektor'] = 'Properti'\n",
    "    elif profiles['Profiles'][0]['Sektor'] in undefined_sectors[6]:\n",
    "        profiles['Profiles'][0]['Sektor'] = 'Transportasi'\n",
    "    elif profiles['Profiles'][0]['Sektor'] in undefined_sectors[7]:\n",
    "        profiles['Profiles'][0]['Sektor'] = 'Barang Baku'\n",
    "    elif profiles['Profiles'][0]['Sektor'] in undefined_sectors[9]:\n",
    "        profiles['Profiles'][0]['Sektor'] = 'Barang Konsumen Non-Primer'\n",
    "    elif profiles['Profiles'][0]['Sektor'] in undefined_sectors[10]:\n",
    "        profiles['Profiles'][0]['Sektor'] = 'Properti'\n",
    "    \n",
    "    if profiles['Profiles'][0]['Sektor'] not in undefined_sectors:\n",
    "        issuer_sectors['code'].append(issuer)\n",
    "        issuer_sectors['sector'].append(profiles['Profiles'][0]['Sektor'])\n",
    "        issuer_sectors['len'].append(len(historical))\n",
    "    else:\n",
    "        print(profiles['Profiles'][0]['Sektor'])\n",
    "\n",
    "# sectors = sorted(list(set(issuer_sectors['sector'])))\n",
    "# print(sectors)\n",
    "# print(len(issuer_sectors['code']))"
   ]
  },
  {
   "cell_type": "code",
   "execution_count": 6,
   "metadata": {},
   "outputs": [
    {
     "name": "stdout",
     "output_type": "stream",
     "text": [
      "{'Barang Baku': ['ADMG', 'AGII', 'AKPI', 'ALDO', 'ALKA', 'ALMI', 'ANTM', 'APLI', 'ARCI', 'AVIA', 'AYLS', 'BAJA', 'BEBS', 'BMSR', 'BRMS', 'BRNA', 'BRPT', 'BTON', 'CITA', 'CLPI', 'CMNT', 'CTBN', 'DKFT', 'DPNS', 'EKAD', 'ESIP', 'ESSA', 'FASW', 'FPNI', 'GDST', 'GGRP', 'IFII', 'IFSH', 'IGAR', 'INAI', 'INCF', 'INCI', 'INCO', 'INKP', 'INRU', 'INTD', 'INTP', 'IPOL', 'ISSP', 'JKSW', 'KAYU', 'KDSI', 'KMTR', 'KRAS', 'LMSH', 'LTLS', 'MDKA', 'MDKI', 'MOLI', 'NICL', 'NIKL', 'NPGF', 'OBMD', 'OKAS', 'OPMS', 'PBID', 'PICO', 'PNGO', 'PSAB', 'PURE', 'SAMF', 'SBMA', 'SIMA', 'SMBR', 'SMCB', 'SMGR', 'SMKL', 'SPMA', 'SQMI', 'SRSN', 'SULI', 'SWAT', 'TALF', 'TBMS', 'TINS', 'TIRT', 'TKIM', 'TPIA', 'TRST', 'UNIC', 'WSBP', 'WTON', 'YPAS', 'ZINC'], 'Barang Konsumen Non-Primer': ['ABBA', 'ACES', 'AKKU', 'ARGO', 'ARTA', 'ASLC', 'AUTO', 'BATA', 'BAYU', 'BELL', 'BIKE', 'BIMA', 'BLTZ', 'BOGA', 'BOLA', 'BOLT', 'BRAM', 'BUVA', 'CARS', 'CBMF', 'CINT', 'CLAY', 'CNTX', 'CSAP', 'DEPO', 'DFAM', 'DIGI', 'DRMA', 'EAST', 'ECII', 'ENAK', 'ERAA', 'ERTX', 'ESTA', 'ESTI', 'FAST', 'FILM', 'FITT', 'FORU', 'GDYR', 'GEMA', 'GJTL', 'GLOB', 'HRME', 'HRTA', 'IDEA', 'IIKP', 'IKAI', 'IMAS', 'INDR', 'INDS', 'INOV', 'IPTV', 'JIHD', 'JSPT', 'KICI', 'KPIG', 'LFLO', 'LMPI', 'LPIN', 'LPPF', 'LUCY', 'MAMI', 'MAPA', 'MAPB', 'MAPI', 'MARI', 'MASA', 'MDIA', 'MGLV', 'MICE', 'MINA', 'MNCN', 'MPMX', 'MSIN', 'MSKY', 'MYTX', 'NASA', 'NATO', 'NETV', 'OLIV', 'PANR', 'PBRX', 'PDES', 'PGLI', 'PJAA', 'PLAN', 'PMJS', 'PNSE', 'POLU', 'POLY', 'PRAS', 'PSKT', 'PTSP', 'PZZA', 'RALS', 'RICY', 'SCMA', 'SCNP', 'SHID', 'SLIS', 'SMSM', 'SNLK', 'SOFA', 'SONA', 'SOTS', 'SRIL', 'SSTM', 'TELE', 'TFCO', 'TMPO', 'TOYS', 'TRIS', 'TURI', 'UANG', 'UFOE', 'UNIT', 'VIVA', 'WOOD', 'YELO', 'ZONE'], 'Barang Konsumen Primer': ['AALI', 'ADES', 'AGAR', 'AISA', 'ALTO', 'AMRT', 'ANJT', 'ASHA', 'BEEF', 'BISI', 'BOBA', 'BTEK', 'BUDI', 'BWPT', 'CAMP', 'CEKA', 'CLEO', 'CMRY', 'COCO', 'CPIN', 'CPRO', 'CSRA', 'DAYA', 'DLTA', 'DMND', 'DSFI', 'DSNG', 'ENZO', 'EPMT', 'FAPA', 'FISH', 'FOOD', 'GGRM', 'GOOD', 'GZCO', 'HERO', 'HMSP', 'HOKI', 'IBOS', 'ICBP', 'IKAN', 'INDF', 'IPPE', 'ITIC', 'JAWA', 'JPFA', 'KEJU', 'KINO', 'KMDS', 'LSIP', 'MAIN', 'MBTO', 'MGRO', 'MIDI', 'MLBI', 'MPPA', 'MRAT', 'MYOR', 'NANO', 'NASI', 'OILS', 'PALM', 'PANI', 'PCAR', 'PGUN', 'PMMP', 'PSDN', 'PSGO', 'RANC', 'RMBA', 'ROTI', 'SDPC', 'SGRO', 'SIMP', 'SIPD', 'SKBM', 'SKLT', 'SMAR', 'SSMS', 'STAA', 'STTP', 'TAPG', 'TAYS', 'TBLA', 'TCID', 'TGKA', 'TLDN', 'UCID', 'ULTJ', 'UNSP', 'UNVR', 'VICI', 'WAPO', 'WICO', 'WIIM', 'WMPP', 'WMUU'], 'Energi': ['ADMR', 'ADRO', 'AIMS', 'AKRA', 'APEX', 'ARII', 'BBRM', 'BESS', 'BIPI', 'BOSS', 'BSML', 'BSSR', 'BULL', 'BUMI', 'BYAN', 'CANI', 'DEWA', 'DOID', 'DSSA', 'DWGL', 'ELSA', 'ENRG', 'ETWA', 'FIRE', 'GEMS', 'GTBO', 'GTSI', 'HITS', 'HRUM', 'IATA', 'INDY', 'INPS', 'ITMA', 'ITMG', 'JSKY', 'KKGI', 'KOPI', 'LEAD', 'MBAP', 'MBSS', 'MCOL', 'MEDC', 'MITI', 'MYOH', 'PGAS', 'PKPK', 'PSSI', 'PTBA', 'PTIS', 'PTRO', 'RAJA', 'RIGS', 'RMKE', 'RUIS', 'SEMA', 'SGER', 'SHIP', 'SICO', 'SMMT', 'SOCI', 'SURE', 'TCPI', 'TEBE', 'TOBA', 'TPMA', 'UNIQ', 'WINS'], 'Infrastruktur': ['ACST', 'ADHI', 'BALI', 'BUKK', 'CASS', 'CENT', 'CMNP', 'DGIK', 'EXCL', 'FIMP', 'FREN', 'GHON', 'GMFI', 'GOLD', 'IBST', 'IDPR', 'IPCC', 'IPCM', 'ISAT', 'JAST', 'JKON', 'JSMR', 'KARW', 'KBLV', 'KEEN', 'LCKM', 'LINK', 'META', 'MPOW', 'MTEL', 'MTPS', 'NRCA', 'OASA', 'PBSA', 'PORT', 'POWR', 'PPRE', 'PTDU', 'PTPP', 'PTPW', 'SMKM', 'SSIA', 'SUPR', 'TAMA', 'TBIG', 'TGRA', 'TLKM', 'TOTL', 'TOWR', 'WEGE', 'WIKA', 'WSKT'], 'Kesehatan': ['BMHS', 'CARE', 'DGNS', 'DVLA', 'HEAL', 'INAF', 'IRRA', 'KAEF', 'KLBF', 'MERK', 'MIKA', 'MTMH', 'PEHA', 'PRDA', 'PRIM', 'PYFA', 'RSGK', 'SAME', 'SCPI', 'SIDO', 'SILO', 'SOHO', 'SRAJ', 'TSPC'], 'Keuangan': ['ABDA', 'ADMF', 'AGRO', 'AGRS', 'AHAP', 'AMAG', 'AMAR', 'AMOR', 'APIC', 'ARTO', 'ASBI', 'ASDM', 'ASJT', 'ASMI', 'ASRM', 'BABP', 'BACA', 'BANK', 'BBCA', 'BBHI', 'BBKP', 'BBLD', 'BBMD', 'BBNI', 'BBRI', 'BBSI', 'BBTN', 'BBYB', 'BCAP', 'BCIC', 'BDMN', 'BEKS', 'BFIN', 'BGTG', 'BHAT', 'BINA', 'BJBR', 'BJTM', 'BKSW', 'BMAS', 'BMRI', 'BNBA', 'BNGA', 'BNII', 'BNLI', 'BPFI', 'BPII', 'BRIS', 'BSIM', 'BSWD', 'BTPN', 'BTPS', 'BVIC', 'CASA', 'CFIN', 'DEFI', 'DNAR', 'DNET', 'FUJI', 'GSMF', 'HDFA', 'IBFN', 'IMJS', 'INPC', 'JMAS', 'LIFE', 'LPGI', 'LPPS', 'MASB', 'MAYA', 'MCOR', 'MEGA', 'MFIN', 'MREI', 'MTWI', 'NICK', 'NISP', 'NOBU', 'OCAP', 'PADI', 'PANS', 'PEGE', 'PNBN', 'PNBS', 'PNIN', 'PNLF', 'POLA', 'POOL', 'RELI', 'SDRA', 'SFAN', 'SMMA', 'SRTG', 'STAR', 'TIFA', 'TRIM', 'TRUS', 'TUGU', 'VICO', 'VINS', 'VRNA', 'WOMF', 'YULE'], 'Perindustrian': ['ABMM', 'AMFG', 'AMIN', 'APII', 'ARKA', 'ARNA', 'ASGR', 'ASII', 'BHIT', 'BINO', 'BLUE', 'BMTR', 'BNBR', 'CAKK', 'CCSI', 'CTTH', 'DYAN', 'GPSO', 'HEXA', 'HOPE', 'ICON', 'IKBI', 'IMPC', 'INDX', 'INTA', 'JECC', 'JTPE', 'KBLI', 'KBLM', 'KIAS', 'KOBX', 'KOIN', 'KONI', 'KUAS', 'LABA', 'LION', 'MARK', 'MFMI', 'MLIA', 'MLPL', 'NTBK', 'SCCO', 'SINI', 'SKRN', 'SOSS', 'SPTO', 'TIRA', 'TOTO', 'UNTR', 'VOKS', 'ZBRA'], 'Properti': ['ADCP', 'AMAN', 'APLN', 'ASPI', 'ASRI', 'ATAP', 'BAPA', 'BBSS', 'BCIP', 'BEST', 'BIKA', 'BIPP', 'BKDP', 'BKSL', 'BSDE', 'CITY', 'CSIS', 'CTRA', 'DART', 'DILD', 'DMAS', 'DUTI', 'EMDE', 'FMII', 'GAMA', 'GMTD', 'GPRA', 'GWSA', 'HOMI', 'INDO', 'INPP', 'IPAC', 'JRPT', 'KBAG', 'KIJA', 'LAND', 'LPCK', 'LPKR', 'LPLI', 'MDLN', 'MKPI', 'MMLP', 'MPRO', 'MTLA', 'MTSM', 'MYRX', 'NIRO', 'NZIA', 'OMRE', 'PAMG', 'PLIN', 'POLI', 'POLL', 'PPRO', 'PUDP', 'PURI', 'PWON', 'RBMS', 'RDTX', 'RIMO', 'RISE', 'ROCK', 'RODA', 'SATU', 'SMDM', 'SMRA', 'TRIN', 'TRUE', 'URBN'], 'Teknologi': ['ATIC', 'BUKA', 'CASH', 'DCII', 'DIVA', 'DMMX', 'EDGE', 'EMTK', 'GLVA', 'GOTO', 'HDIT', 'KIOS', 'KREN', 'LMAS', 'LUCK', 'MCAS', 'MLPT', 'MTDL', 'NFCX', 'PGJO', 'PTSN', 'RUNS', 'TECH', 'TFAS', 'UVCR', 'WGSH', 'WIFI', 'WIRG', 'ZYRX'], 'Transportasi': ['AKSI', 'ASSA', 'BIRD', 'BLTA', 'BPTR', 'CMPP', 'GIAA', 'HAIS', 'HELI', 'JAYA', 'KJEN', 'LRNA', 'NELY', 'PPGL', 'PURA', 'SAFE', 'SAPX', 'SDMU', 'SMDR', 'TARA', 'TMAS', 'TNCA', 'TRJA', 'TRUK', 'WEHA']}\n"
     ]
    }
   ],
   "source": [
    "# Sort the data by the 'sector' key\n",
    "sorted_data = sorted(zip(issuer_sectors['sector'], issuer_sectors['code']))\n",
    "\n",
    "# Group the data by the 'sector' key\n",
    "grouped_data = groupby(sorted_data, key=lambda x: x[0])\n",
    "\n",
    "# Create a new dictionary to store the grouped data\n",
    "grouped_sectors = {}\n",
    "\n",
    "# Iterate over the grouped data and store it in the new dictionary\n",
    "for sector, group in grouped_data:\n",
    "    codes = [item[1] for item in group]\n",
    "    grouped_sectors[sector] = codes\n",
    "\n",
    "print(grouped_sectors)"
   ]
  },
  {
   "cell_type": "code",
   "execution_count": 7,
   "metadata": {},
   "outputs": [
    {
     "name": "stdout",
     "output_type": "stream",
     "text": [
      "Counter({'Barang Konsumen Non-Primer': 121, 'Keuangan': 103, 'Barang Konsumen Primer': 97, 'Barang Baku': 89, 'Properti': 69, 'Energi': 67, 'Infrastruktur': 52, 'Perindustrian': 51, 'Teknologi': 29, 'Transportasi': 25, 'Kesehatan': 24})\n"
     ]
    }
   ],
   "source": [
    "sector_counts = Counter(issuer_sectors['sector'])\n",
    "print(sector_counts)"
   ]
  },
  {
   "cell_type": "code",
   "execution_count": 8,
   "metadata": {},
   "outputs": [
    {
     "name": "stdout",
     "output_type": "stream",
     "text": [
      "{'Barang Baku': 308749, 'Barang Konsumen Non-Primer': 362480, 'Barang Konsumen Primer': 283436, 'Energi': 195815, 'Infrastruktur': 133130, 'Kesehatan': 61862, 'Keuangan': 364663, 'Perindustrian': 171737, 'Properti': 209202, 'Teknologi': 43319, 'Transportasi': 60955}\n",
      "{'Barang Baku': 89, 'Barang Konsumen Non-Primer': 121, 'Barang Konsumen Primer': 97, 'Energi': 67, 'Infrastruktur': 52, 'Kesehatan': 24, 'Keuangan': 103, 'Perindustrian': 51, 'Properti': 69, 'Teknologi': 29, 'Transportasi': 25}\n"
     ]
    }
   ],
   "source": [
    "sum_by_sector = {}\n",
    "sector_counter = Counter()\n",
    "\n",
    "for code, sector, length in zip(issuer_sectors['code'], issuer_sectors['sector'], issuer_sectors['len']):\n",
    "    if sector not in sum_by_sector:\n",
    "        sum_by_sector[sector] = 0\n",
    "    sum_by_sector[sector] += length\n",
    "    sector_counter[sector] += 1\n",
    "\n",
    "print(dict(sorted(sum_by_sector.items())))\n",
    "print(dict(sorted(sector_counter.items())))\n"
   ]
  },
  {
   "cell_type": "code",
   "execution_count": 9,
   "metadata": {},
   "outputs": [
    {
     "ename": "FileNotFoundError",
     "evalue": "[Errno 2] No such file or directory: 'results/evaluations/TFTFR_multivariate/ASHA_5_test_score.json'",
     "output_type": "error",
     "traceback": [
      "\u001b[1;31m---------------------------------------------------------------------------\u001b[0m",
      "\u001b[1;31mFileNotFoundError\u001b[0m                         Traceback (most recent call last)",
      "Cell \u001b[1;32mIn[9], line 18\u001b[0m\n\u001b[0;32m     15\u001b[0m     path_score \u001b[38;5;241m=\u001b[39m \u001b[38;5;124mf\u001b[39m\u001b[38;5;124m'\u001b[39m\u001b[38;5;132;01m{\u001b[39;00mpath_result\u001b[38;5;132;01m}\u001b[39;00m\u001b[38;5;132;01m{\u001b[39;00marchi\u001b[38;5;132;01m}\u001b[39;00m\u001b[38;5;124m_multivariate/\u001b[39m\u001b[38;5;132;01m{\u001b[39;00mcode\u001b[38;5;132;01m}\u001b[39;00m\u001b[38;5;124m_\u001b[39m\u001b[38;5;132;01m{\u001b[39;00mlookback\u001b[38;5;132;01m}\u001b[39;00m\u001b[38;5;124m_test_score.json\u001b[39m\u001b[38;5;124m'\u001b[39m\n\u001b[0;32m     16\u001b[0m     path_class \u001b[38;5;241m=\u001b[39m \u001b[38;5;124mf\u001b[39m\u001b[38;5;124m'\u001b[39m\u001b[38;5;132;01m{\u001b[39;00mpath_result\u001b[38;5;132;01m}\u001b[39;00m\u001b[38;5;132;01m{\u001b[39;00marchi\u001b[38;5;132;01m}\u001b[39;00m\u001b[38;5;124m_multivariate/\u001b[39m\u001b[38;5;132;01m{\u001b[39;00mcode\u001b[38;5;132;01m}\u001b[39;00m\u001b[38;5;124m_\u001b[39m\u001b[38;5;132;01m{\u001b[39;00mlookback\u001b[38;5;132;01m}\u001b[39;00m\u001b[38;5;124m_test_classification.json\u001b[39m\u001b[38;5;124m'\u001b[39m\n\u001b[1;32m---> 18\u001b[0m score_json \u001b[38;5;241m=\u001b[39m json\u001b[38;5;241m.\u001b[39mload(\u001b[38;5;28mopen\u001b[39m(path_score))\n\u001b[0;32m     19\u001b[0m class_json \u001b[38;5;241m=\u001b[39m json\u001b[38;5;241m.\u001b[39mload(\u001b[38;5;28mopen\u001b[39m(path_class))\n\u001b[0;32m     21\u001b[0m issuer_result[\u001b[38;5;124m'\u001b[39m\u001b[38;5;124mcode\u001b[39m\u001b[38;5;124m'\u001b[39m]\u001b[38;5;241m.\u001b[39mappend(code)\n",
      "File \u001b[1;32mC:\\ProgramData\\anaconda3\\Lib\\site-packages\\IPython\\core\\interactiveshell.py:286\u001b[0m, in \u001b[0;36m_modified_open\u001b[1;34m(file, *args, **kwargs)\u001b[0m\n\u001b[0;32m    279\u001b[0m \u001b[38;5;28;01mif\u001b[39;00m file \u001b[38;5;129;01min\u001b[39;00m {\u001b[38;5;241m0\u001b[39m, \u001b[38;5;241m1\u001b[39m, \u001b[38;5;241m2\u001b[39m}:\n\u001b[0;32m    280\u001b[0m     \u001b[38;5;28;01mraise\u001b[39;00m \u001b[38;5;167;01mValueError\u001b[39;00m(\n\u001b[0;32m    281\u001b[0m         \u001b[38;5;124mf\u001b[39m\u001b[38;5;124m\"\u001b[39m\u001b[38;5;124mIPython won\u001b[39m\u001b[38;5;124m'\u001b[39m\u001b[38;5;124mt let you open fd=\u001b[39m\u001b[38;5;132;01m{\u001b[39;00mfile\u001b[38;5;132;01m}\u001b[39;00m\u001b[38;5;124m by default \u001b[39m\u001b[38;5;124m\"\u001b[39m\n\u001b[0;32m    282\u001b[0m         \u001b[38;5;124m\"\u001b[39m\u001b[38;5;124mas it is likely to crash IPython. If you know what you are doing, \u001b[39m\u001b[38;5;124m\"\u001b[39m\n\u001b[0;32m    283\u001b[0m         \u001b[38;5;124m\"\u001b[39m\u001b[38;5;124myou can use builtins\u001b[39m\u001b[38;5;124m'\u001b[39m\u001b[38;5;124m open.\u001b[39m\u001b[38;5;124m\"\u001b[39m\n\u001b[0;32m    284\u001b[0m     )\n\u001b[1;32m--> 286\u001b[0m \u001b[38;5;28;01mreturn\u001b[39;00m io_open(file, \u001b[38;5;241m*\u001b[39margs, \u001b[38;5;241m*\u001b[39m\u001b[38;5;241m*\u001b[39mkwargs)\n",
      "\u001b[1;31mFileNotFoundError\u001b[0m: [Errno 2] No such file or directory: 'results/evaluations/TFTFR_multivariate/ASHA_5_test_score.json'"
     ]
    }
   ],
   "source": [
    "issuer_result = {'code':[],'sector':[],'lookback':[],'arch':[],'r2':[],'mse':[],'rmse':[],'mape':[],'acc':[],'f1':[]}\n",
    "\n",
    "lookbacks = [5,10,15,20,25]\n",
    "architecture = ['TFCNN','TFCNNGRU','TFCNNLSTM','TFGRU','TFGRUCNN','TFGRULSTM','TFLSTM','TFLSTMCNN','TFLSTMGRU','TFGCNGRU','TFGCNLSTM', 'TFTFR']\n",
    "\n",
    "path_result = 'results/evaluations/'\n",
    "\n",
    "for code, sector in zip(issuer_sectors['code'], issuer_sectors['sector']):\n",
    "    for archi in architecture:\n",
    "        for lookback in lookbacks:\n",
    "            if 'GCN' in archi:\n",
    "                path_score = f'{path_result}{archi}_multivariate_graph/{code}_{lookback}_test_score.json'\n",
    "                path_class = f'{path_result}{archi}_multivariate_graph/{code}_{lookback}_test_classification.json'\n",
    "            else:\n",
    "                path_score = f'{path_result}{archi}_multivariate/{code}_{lookback}_test_score.json'\n",
    "                path_class = f'{path_result}{archi}_multivariate/{code}_{lookback}_test_classification.json'\n",
    "            \n",
    "            score_json = json.load(open(path_score))\n",
    "            class_json = json.load(open(path_class))\n",
    "            \n",
    "            issuer_result['code'].append(code)\n",
    "            issuer_result['sector'].append(sector)\n",
    "            issuer_result['lookback'].append(lookback)\n",
    "            issuer_result['arch'].append(archi)\n",
    "            issuer_result['r2'].append(score_json['R2'])\n",
    "            issuer_result['mse'].append(score_json['MSE'])\n",
    "            issuer_result['rmse'].append(score_json['RMSE'])\n",
    "            issuer_result['mape'].append(score_json['MAPE'])\n",
    "            issuer_result['acc'].append(class_json['accuracy'])\n",
    "            issuer_result['f1'].append(class_json['macro avg']['f1-score'] if 'macro avg' in class_json else 0)\n",
    "            "
   ]
  },
  {
   "cell_type": "code",
   "execution_count": null,
   "metadata": {},
   "outputs": [],
   "source": [
    "df_result = pd.DataFrame(issuer_result)\n",
    "df_averages = df_result.groupby(['code', 'sector', 'arch'], as_index=False).mean()[['code', 'sector', 'arch', 'r2', 'mse', 'rmse', 'mape', 'acc', 'f1']]\n",
    "\n",
    "best_arch_r2 = df_averages.loc[df_averages.groupby(['code', 'sector'])['r2'].idxmax()]\n",
    "best_arch_mse = df_averages.loc[df_averages.groupby(['code', 'sector'])['mse'].idxmin()]\n",
    "best_arch_rmse = df_averages.loc[df_averages.groupby(['code', 'sector'])['rmse'].idxmin()]\n",
    "best_arch_mape = df_averages.loc[df_averages.groupby(['code', 'sector'])['mape'].idxmin()]\n",
    "best_arch_f1 = df_averages.loc[df_averages.groupby(['code', 'sector'])['f1'].idxmax()]\n",
    "\n",
    "df_best = pd.concat([best_arch_r2, best_arch_mse, best_arch_rmse, best_arch_mape, best_arch_f1])\n",
    "\n",
    "df_best_arch = df_best.groupby(['code', 'sector', 'arch'], as_index=False).count()[['code', 'sector', 'arch', 'r2']]\n",
    "best_arch = df_best_arch.loc[df_best_arch.groupby(['code', 'sector'])['r2'].idxmax()]\n",
    "best_arch = best_arch.rename(columns={'r2': 'count'})\n",
    "best_arch_count = best_arch.groupby(['arch'], as_index=False).count()[['arch','count']]"
   ]
  },
  {
   "cell_type": "code",
   "execution_count": null,
   "metadata": {},
   "outputs": [],
   "source": [
    "import matplotlib.pyplot as plt\n",
    "plt.rcdefaults()\n",
    "plt.rcParams.update({'font.family':'Times New Roman'})\n",
    "fig = plt.figure(figsize =(5, 4))\n",
    "\n",
    "# bar_colors = ['#4287f5', '#42f5a3', '#f54242', '#f5d142', '#a342f5', '#f57f42', '#42b6f5', '#f542c6', '#42f5e9', '#c6f542', '#f5bc42']\n",
    "df = best_arch_count.sort_values('count', ascending=True)\n",
    "print(df)\n",
    "plt.barh(df['arch'], df['count'], color='#42b6f5')\n",
    "plt.xlabel('Issuer')\n",
    "plt.ylabel('Architecture')\n",
    "plt.gca().spines['top'].set_visible(False)\n",
    "plt.gca().spines['right'].set_visible(False)\n",
    "plt.tick_params(axis='both', which='both', length=0, labelsize=10)\n",
    "plt.tight_layout()\n",
    "\n",
    "fig.set_dpi(300.0)\n",
    "plt.show()"
   ]
  },
  {
   "cell_type": "code",
   "execution_count": null,
   "metadata": {},
   "outputs": [],
   "source": [
    "df_result = pd.DataFrame(issuer_result)\n",
    "df_averages_score = df_result.groupby(['arch'], as_index=False).mean()[['arch', 'r2', 'mse', 'rmse', 'mape', 'acc', 'f1']]\n",
    "# df_averages_score.to_excel('df_averages_score.xlsx', index=False)"
   ]
  },
  {
   "cell_type": "code",
   "execution_count": null,
   "metadata": {},
   "outputs": [],
   "source": [
    "import matplotlib.pyplot as plt\n",
    "plt.rcdefaults()\n",
    "plt.rcParams.update({'font.family':'Times New Roman'})\n",
    "fig = plt.figure(figsize =(5, 4))\n",
    "\n",
    "df = df_averages_score.sort_values('r2', ascending=True)\n",
    "print(df)\n",
    "plt.barh(df['arch'], df['r2'], color='#42b6f5')\n",
    "plt.xlabel('R2 Score')\n",
    "plt.ylabel('Architecture')\n",
    "plt.gca().spines['top'].set_visible(False)\n",
    "plt.gca().spines['right'].set_visible(False)\n",
    "plt.tick_params(axis='both', which='both', length=0, labelsize=10)\n",
    "plt.tight_layout()\n",
    "\n",
    "fig.set_dpi(300.0)\n",
    "plt.show()"
   ]
  },
  {
   "cell_type": "code",
   "execution_count": null,
   "metadata": {},
   "outputs": [],
   "source": [
    "import matplotlib.pyplot as plt\n",
    "plt.rcdefaults()\n",
    "plt.rcParams.update({'font.family':'Times New Roman'})\n",
    "fig = plt.figure(figsize =(5, 4))\n",
    "\n",
    "df = df_averages_score.sort_values('mse', ascending=False)\n",
    "print(df)\n",
    "plt.barh(df['arch'], df['mse'], color='#42b6f5')\n",
    "plt.xlabel('MSE Score')\n",
    "plt.ylabel('Architecture')\n",
    "plt.gca().spines['top'].set_visible(False)\n",
    "plt.gca().spines['right'].set_visible(False)\n",
    "plt.tick_params(axis='both', which='both', length=0, labelsize=10)\n",
    "plt.tight_layout()\n",
    "\n",
    "fig.set_dpi(300.0)\n",
    "plt.show()"
   ]
  },
  {
   "cell_type": "code",
   "execution_count": null,
   "metadata": {},
   "outputs": [],
   "source": [
    "import matplotlib.pyplot as plt\n",
    "plt.rcdefaults()\n",
    "plt.rcParams.update({'font.family':'Times New Roman'})\n",
    "fig = plt.figure(figsize =(5, 4))\n",
    "\n",
    "df = df_averages_score.sort_values('rmse', ascending=False)\n",
    "print(df)\n",
    "plt.barh(df['arch'], df['rmse'], color='#42b6f5')\n",
    "plt.xlabel('RMSE Score')\n",
    "plt.ylabel('Architecture')\n",
    "plt.gca().spines['top'].set_visible(False)\n",
    "plt.gca().spines['right'].set_visible(False)\n",
    "plt.tick_params(axis='both', which='both', length=0, labelsize=10)\n",
    "plt.tight_layout()\n",
    "\n",
    "fig.set_dpi(300.0)\n",
    "plt.show()"
   ]
  },
  {
   "cell_type": "code",
   "execution_count": null,
   "metadata": {},
   "outputs": [],
   "source": [
    "import matplotlib.pyplot as plt\n",
    "plt.rcdefaults()\n",
    "plt.rcParams.update({'font.family':'Times New Roman'})\n",
    "fig = plt.figure(figsize =(5, 4))\n",
    "\n",
    "df = df_averages_score.sort_values('mape', ascending=False)\n",
    "print(df)\n",
    "plt.barh(df['arch'], df['mape'], color='#42b6f5')\n",
    "plt.xlabel('MAPE Score')\n",
    "plt.ylabel('Architecture')\n",
    "plt.gca().spines['top'].set_visible(False)\n",
    "plt.gca().spines['right'].set_visible(False)\n",
    "plt.tick_params(axis='both', which='both', length=0, labelsize=10)\n",
    "plt.tight_layout()\n",
    "\n",
    "fig.set_dpi(300.0)\n",
    "plt.show()"
   ]
  },
  {
   "cell_type": "code",
   "execution_count": null,
   "metadata": {},
   "outputs": [],
   "source": [
    "import matplotlib.pyplot as plt\n",
    "plt.rcdefaults()\n",
    "plt.rcParams.update({'font.family':'Times New Roman'})\n",
    "fig = plt.figure(figsize =(5, 4))\n",
    "\n",
    "df = df_averages_score.sort_values('f1', ascending=True)\n",
    "print(df)\n",
    "plt.barh(df['arch'], df['f1'], color='#42b6f5')\n",
    "plt.xlabel('F1 Score')\n",
    "plt.ylabel('Architecture')\n",
    "plt.gca().spines['top'].set_visible(False)\n",
    "plt.gca().spines['right'].set_visible(False)\n",
    "plt.tick_params(axis='both', which='both', length=0, labelsize=10)\n",
    "plt.tight_layout()\n",
    "\n",
    "fig.set_dpi(300.0)\n",
    "plt.show()"
   ]
  },
  {
   "cell_type": "code",
   "execution_count": null,
   "metadata": {},
   "outputs": [],
   "source": [
    "df_result_sort = df_result.sort_values(by=['f1', 'acc', 'mape', 'rmse', 'mse', 'r2'], ascending=[False, False, True, True, True, False])\n",
    "print(df_result_sort)\n",
    "# df_result_sort.to_excel('df_result_sort.xlsx', index=False)"
   ]
  },
  {
   "cell_type": "code",
   "execution_count": null,
   "metadata": {},
   "outputs": [],
   "source": []
  },
  {
   "cell_type": "code",
   "execution_count": null,
   "metadata": {},
   "outputs": [],
   "source": []
  }
 ],
 "metadata": {
  "kernelspec": {
   "display_name": "Python 3 (ipykernel)",
   "language": "python",
   "name": "python3"
  },
  "language_info": {
   "codemirror_mode": {
    "name": "ipython",
    "version": 3
   },
   "file_extension": ".py",
   "mimetype": "text/x-python",
   "name": "python",
   "nbconvert_exporter": "python",
   "pygments_lexer": "ipython3",
   "version": "3.11.5"
  }
 },
 "nbformat": 4,
 "nbformat_minor": 2
}
